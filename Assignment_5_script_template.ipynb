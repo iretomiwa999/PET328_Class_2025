{
 "cells": [
  {
   "cell_type": "markdown",
   "id": "c3e87412",
   "metadata": {},
   "source": [
    "## A script to classify and count 'active' and 'inactive' gridblocks in a discretized reservoir"
   ]
  },
  {
   "cell_type": "code",
   "execution_count": 1,
   "id": "a53afb20",
   "metadata": {},
   "outputs": [],
   "source": [
    "#################### Task 1 ############################\n",
    "    # Request for reservoir dimensions and discretization parameters\n",
    "\n"
   ]
  },
  {
   "cell_type": "code",
   "execution_count": 3,
   "id": "559de93e",
   "metadata": {},
   "outputs": [],
   "source": [
    "\n",
    "\n",
    "#################### Task 2 ############################\n",
    "    # Request for the cut-off value\n"
   ]
  },
  {
   "cell_type": "code",
   "execution_count": 4,
   "id": "81bee451",
   "metadata": {},
   "outputs": [],
   "source": [
    "#################### Task 3 ############################\n",
    "    # Initialize counters\n",
    "\n"
   ]
  },
  {
   "cell_type": "code",
   "execution_count": 6,
   "id": "dd77006a",
   "metadata": {},
   "outputs": [],
   "source": [
    "#################### Task 4 ############################\n",
    "    # Loop through all blocks (nested loop)\n",
    "for k in range(1, nz+1):\n",
    "    # Initialize layer counter\n",
    "    \n",
    "    # two nested loops go here\n",
    "    \n",
    "\n",
    "    # Print layer count\n",
    "    \n",
    "\n"
   ]
  },
  {
   "cell_type": "code",
   "execution_count": null,
   "id": "ec00ce2a",
   "metadata": {},
   "outputs": [],
   "source": [
    "#################### Task 5 ############################\n",
    "    # Print overall counts\n",
    "\n",
    "# Print 'active'\n",
    "\n",
    "\n",
    "# Print 'inactive'\n",
    "\n"
   ]
  }
 ],
 "metadata": {
  "kernelspec": {
   "display_name": "Python 3 (ipykernel)",
   "language": "python",
   "name": "python3"
  },
  "language_info": {
   "codemirror_mode": {
    "name": "ipython",
    "version": 3
   },
   "file_extension": ".py",
   "mimetype": "text/x-python",
   "name": "python",
   "nbconvert_exporter": "python",
   "pygments_lexer": "ipython3",
   "version": "3.9.12"
  }
 },
 "nbformat": 4,
 "nbformat_minor": 5
}
